{
 "cells": [
  {
   "cell_type": "markdown",
   "metadata": {
    "colab_type": "text",
    "id": "Dc1cwxK6JVuh"
   },
   "source": [
    "# Apple Store Monetization Experiment Design"
   ]
  },
  {
   "cell_type": "markdown",
   "metadata": {
    "colab_type": "text",
    "id": "D-KTS6U5JVuj"
   },
   "source": [
    "* Exploratory analysis: generating product improvement ideas from chaotic data\n",
    "* Experiment design: design framework for doing A/B test with statistical rigor\n",
    "* Implementation: build Python dashboard to show the output of the A/B test.\n",
    "* Recommendation: Make recommendations and advise next steps "
   ]
  },
  {
   "cell_type": "code",
   "execution_count": 1,
   "metadata": {
    "colab": {},
    "colab_type": "code",
    "id": "sQi65NspJVuk"
   },
   "outputs": [],
   "source": [
    "import warnings\n",
    "warnings.filterwarnings('ignore')\n",
    "import numpy as np\n",
    "import pandas as pd\n",
    "pd.set_option('display.max_columns', None)\n",
    "import scipy.stats as stats\n",
    "import matplotlib.pyplot as plt\n",
    "%matplotlib inline\n",
    "plt.rcParams['figure.figsize'] = (8, 5)\n",
    "import seaborn as sns"
   ]
  },
  {
   "cell_type": "markdown",
   "metadata": {
    "colab_type": "text",
    "id": "e1llBtxTJVuq"
   },
   "source": [
    "## Exploratory analysis"
   ]
  },
  {
   "cell_type": "code",
   "execution_count": 4,
   "metadata": {
    "colab": {},
    "colab_type": "code",
    "id": "_lAiPWuAJVus",
    "outputId": "64e95a37-1236-49a9-805f-b9aad63905f0"
   },
   "outputs": [
    {
     "data": {
      "text/html": [
       "<div>\n",
       "<style scoped>\n",
       "    .dataframe tbody tr th:only-of-type {\n",
       "        vertical-align: middle;\n",
       "    }\n",
       "\n",
       "    .dataframe tbody tr th {\n",
       "        vertical-align: top;\n",
       "    }\n",
       "\n",
       "    .dataframe thead th {\n",
       "        text-align: right;\n",
       "    }\n",
       "</style>\n",
       "<table border=\"1\" class=\"dataframe\">\n",
       "  <thead>\n",
       "    <tr style=\"text-align: right;\">\n",
       "      <th></th>\n",
       "      <th>buyer_week_before</th>\n",
       "      <th>clicked_buy_before</th>\n",
       "      <th>country</th>\n",
       "      <th>existing_buyer</th>\n",
       "      <th>initial_fop_set</th>\n",
       "      <th>made_purchase_before</th>\n",
       "      <th>saw_cart_before</th>\n",
       "      <th>spend_usd_next_14_days</th>\n",
       "      <th>user_added_credit_card</th>\n",
       "      <th>user_added_dcb</th>\n",
       "      <th>user_added_fop</th>\n",
       "      <th>user_added_gift_card</th>\n",
       "      <th>user_added_paypal</th>\n",
       "      <th>user_id</th>\n",
       "      <th>visit_before</th>\n",
       "    </tr>\n",
       "  </thead>\n",
       "  <tbody>\n",
       "    <tr>\n",
       "      <th>0</th>\n",
       "      <td>0</td>\n",
       "      <td>0.0</td>\n",
       "      <td>IN</td>\n",
       "      <td>0</td>\n",
       "      <td>False</td>\n",
       "      <td>0.0</td>\n",
       "      <td>1.0</td>\n",
       "      <td>NaN</td>\n",
       "      <td>NaN</td>\n",
       "      <td>NaN</td>\n",
       "      <td>0</td>\n",
       "      <td>NaN</td>\n",
       "      <td>NaN</td>\n",
       "      <td>18321316048201303366</td>\n",
       "      <td>1</td>\n",
       "    </tr>\n",
       "    <tr>\n",
       "      <th>1</th>\n",
       "      <td>0</td>\n",
       "      <td>0.0</td>\n",
       "      <td>IN</td>\n",
       "      <td>0</td>\n",
       "      <td>False</td>\n",
       "      <td>0.0</td>\n",
       "      <td>1.0</td>\n",
       "      <td>NaN</td>\n",
       "      <td>NaN</td>\n",
       "      <td>NaN</td>\n",
       "      <td>0</td>\n",
       "      <td>NaN</td>\n",
       "      <td>NaN</td>\n",
       "      <td>13705367724816913241</td>\n",
       "      <td>1</td>\n",
       "    </tr>\n",
       "    <tr>\n",
       "      <th>2</th>\n",
       "      <td>0</td>\n",
       "      <td>NaN</td>\n",
       "      <td>IN</td>\n",
       "      <td>0</td>\n",
       "      <td>False</td>\n",
       "      <td>NaN</td>\n",
       "      <td>NaN</td>\n",
       "      <td>NaN</td>\n",
       "      <td>NaN</td>\n",
       "      <td>NaN</td>\n",
       "      <td>0</td>\n",
       "      <td>NaN</td>\n",
       "      <td>NaN</td>\n",
       "      <td>6605724765451655114</td>\n",
       "      <td>0</td>\n",
       "    </tr>\n",
       "    <tr>\n",
       "      <th>3</th>\n",
       "      <td>0</td>\n",
       "      <td>1.0</td>\n",
       "      <td>CA</td>\n",
       "      <td>1</td>\n",
       "      <td>True</td>\n",
       "      <td>1.0</td>\n",
       "      <td>1.0</td>\n",
       "      <td>7.398815</td>\n",
       "      <td>1.0</td>\n",
       "      <td>0.0</td>\n",
       "      <td>1</td>\n",
       "      <td>0.0</td>\n",
       "      <td>0.0</td>\n",
       "      <td>2340067911948261502</td>\n",
       "      <td>1</td>\n",
       "    </tr>\n",
       "    <tr>\n",
       "      <th>4</th>\n",
       "      <td>7</td>\n",
       "      <td>1.0</td>\n",
       "      <td>PL</td>\n",
       "      <td>1</td>\n",
       "      <td>True</td>\n",
       "      <td>1.0</td>\n",
       "      <td>1.0</td>\n",
       "      <td>NaN</td>\n",
       "      <td>0.0</td>\n",
       "      <td>1.0</td>\n",
       "      <td>1</td>\n",
       "      <td>0.0</td>\n",
       "      <td>0.0</td>\n",
       "      <td>11891045596810635427</td>\n",
       "      <td>1</td>\n",
       "    </tr>\n",
       "    <tr>\n",
       "      <th>5</th>\n",
       "      <td>0</td>\n",
       "      <td>0.0</td>\n",
       "      <td>ID</td>\n",
       "      <td>0</td>\n",
       "      <td>False</td>\n",
       "      <td>0.0</td>\n",
       "      <td>1.0</td>\n",
       "      <td>NaN</td>\n",
       "      <td>NaN</td>\n",
       "      <td>NaN</td>\n",
       "      <td>0</td>\n",
       "      <td>NaN</td>\n",
       "      <td>NaN</td>\n",
       "      <td>16960375743361213328</td>\n",
       "      <td>1</td>\n",
       "    </tr>\n",
       "    <tr>\n",
       "      <th>6</th>\n",
       "      <td>0</td>\n",
       "      <td>1.0</td>\n",
       "      <td>TH</td>\n",
       "      <td>0</td>\n",
       "      <td>True</td>\n",
       "      <td>1.0</td>\n",
       "      <td>1.0</td>\n",
       "      <td>NaN</td>\n",
       "      <td>0.0</td>\n",
       "      <td>1.0</td>\n",
       "      <td>1</td>\n",
       "      <td>0.0</td>\n",
       "      <td>0.0</td>\n",
       "      <td>14845700381773612658</td>\n",
       "      <td>1</td>\n",
       "    </tr>\n",
       "    <tr>\n",
       "      <th>7</th>\n",
       "      <td>0</td>\n",
       "      <td>0.0</td>\n",
       "      <td>ID</td>\n",
       "      <td>0</td>\n",
       "      <td>False</td>\n",
       "      <td>0.0</td>\n",
       "      <td>1.0</td>\n",
       "      <td>NaN</td>\n",
       "      <td>NaN</td>\n",
       "      <td>NaN</td>\n",
       "      <td>0</td>\n",
       "      <td>NaN</td>\n",
       "      <td>NaN</td>\n",
       "      <td>1407472760358057975</td>\n",
       "      <td>1</td>\n",
       "    </tr>\n",
       "    <tr>\n",
       "      <th>8</th>\n",
       "      <td>0</td>\n",
       "      <td>0.0</td>\n",
       "      <td>NaN</td>\n",
       "      <td>0</td>\n",
       "      <td>False</td>\n",
       "      <td>0.0</td>\n",
       "      <td>1.0</td>\n",
       "      <td>NaN</td>\n",
       "      <td>NaN</td>\n",
       "      <td>NaN</td>\n",
       "      <td>0</td>\n",
       "      <td>NaN</td>\n",
       "      <td>NaN</td>\n",
       "      <td>795175088989280187</td>\n",
       "      <td>1</td>\n",
       "    </tr>\n",
       "    <tr>\n",
       "      <th>9</th>\n",
       "      <td>0</td>\n",
       "      <td>0.0</td>\n",
       "      <td>GR</td>\n",
       "      <td>0</td>\n",
       "      <td>False</td>\n",
       "      <td>0.0</td>\n",
       "      <td>1.0</td>\n",
       "      <td>NaN</td>\n",
       "      <td>NaN</td>\n",
       "      <td>NaN</td>\n",
       "      <td>0</td>\n",
       "      <td>NaN</td>\n",
       "      <td>NaN</td>\n",
       "      <td>6034351615620544692</td>\n",
       "      <td>1</td>\n",
       "    </tr>\n",
       "  </tbody>\n",
       "</table>\n",
       "</div>"
      ],
      "text/plain": [
       "   buyer_week_before  clicked_buy_before country  existing_buyer  \\\n",
       "0                  0                 0.0      IN               0   \n",
       "1                  0                 0.0      IN               0   \n",
       "2                  0                 NaN      IN               0   \n",
       "3                  0                 1.0      CA               1   \n",
       "4                  7                 1.0      PL               1   \n",
       "5                  0                 0.0      ID               0   \n",
       "6                  0                 1.0      TH               0   \n",
       "7                  0                 0.0      ID               0   \n",
       "8                  0                 0.0     NaN               0   \n",
       "9                  0                 0.0      GR               0   \n",
       "\n",
       "   initial_fop_set  made_purchase_before  saw_cart_before  \\\n",
       "0            False                   0.0              1.0   \n",
       "1            False                   0.0              1.0   \n",
       "2            False                   NaN              NaN   \n",
       "3             True                   1.0              1.0   \n",
       "4             True                   1.0              1.0   \n",
       "5            False                   0.0              1.0   \n",
       "6             True                   1.0              1.0   \n",
       "7            False                   0.0              1.0   \n",
       "8            False                   0.0              1.0   \n",
       "9            False                   0.0              1.0   \n",
       "\n",
       "   spend_usd_next_14_days  user_added_credit_card  user_added_dcb  \\\n",
       "0                     NaN                     NaN             NaN   \n",
       "1                     NaN                     NaN             NaN   \n",
       "2                     NaN                     NaN             NaN   \n",
       "3                7.398815                     1.0             0.0   \n",
       "4                     NaN                     0.0             1.0   \n",
       "5                     NaN                     NaN             NaN   \n",
       "6                     NaN                     0.0             1.0   \n",
       "7                     NaN                     NaN             NaN   \n",
       "8                     NaN                     NaN             NaN   \n",
       "9                     NaN                     NaN             NaN   \n",
       "\n",
       "   user_added_fop  user_added_gift_card  user_added_paypal  \\\n",
       "0               0                   NaN                NaN   \n",
       "1               0                   NaN                NaN   \n",
       "2               0                   NaN                NaN   \n",
       "3               1                   0.0                0.0   \n",
       "4               1                   0.0                0.0   \n",
       "5               0                   NaN                NaN   \n",
       "6               1                   0.0                0.0   \n",
       "7               0                   NaN                NaN   \n",
       "8               0                   NaN                NaN   \n",
       "9               0                   NaN                NaN   \n",
       "\n",
       "                user_id  visit_before  \n",
       "0  18321316048201303366             1  \n",
       "1  13705367724816913241             1  \n",
       "2   6605724765451655114             0  \n",
       "3   2340067911948261502             1  \n",
       "4  11891045596810635427             1  \n",
       "5  16960375743361213328             1  \n",
       "6  14845700381773612658             1  \n",
       "7   1407472760358057975             1  \n",
       "8    795175088989280187             1  \n",
       "9   6034351615620544692             1  "
      ]
     },
     "execution_count": 4,
     "metadata": {},
     "output_type": "execute_result"
    }
   ],
   "source": [
    "# data \n",
    "file_location = \"C:/Users/yangj/Desktop/App_store./\"\n",
    "file_name = \"Python_project_eda.csv\"\n",
    "my_data = pd.read_csv(file_location + file_name)\n",
    "# show the head of table\n",
    "my_data.head(10)"
   ]
  },
  {
   "cell_type": "markdown",
   "metadata": {
    "colab_type": "text",
    "id": "6vWnPWcvJVuy"
   },
   "source": [
    "* **user_id**:\t            Identifier for the user\n",
    "* **country**:\t            IP country of the user\n",
    "* **user_added_credit_card**:\tIf the user had ever added credit card before 5/1.\n",
    "* **user_added_dcb****:\t    If the user had ever added direct carrier billing before 5/1.\n",
    "* **user_added_fop**:\t    If the user had ever added any payment method before 5/1.\n",
    "* **user_added_gift_card**:\tIf the user had ever added gift card balance before 5/1.\n",
    "* **user_added_paypal**:\tIf the user had ever added PayPal before 5/1.\n",
    "* **initial_fop_set**:\t    If the user had form of payment as of 5/1.\n",
    "* **spend_usd_next_14_days**:\t the user has spent in the next 14 days, if any.\n",
    "* **visit_before**:\t        If the user had visited the purchase flow, in the last 3 months.\n",
    "* **saw_cart_before**:\t    If the user had put items in the shopping cart, in the last 3 months.\n",
    "* **clicked_buy_before**:\tIf the user had clicked on the checkout button, in the last 3 months.\n",
    "* **made_purchase_before**:\tIf the user made any purchase successfully, in the last 3 months.\n",
    "* **existing_buyer**:\tIf the user had ever made purchase before 5/1.\n",
    "* **buyer_week_before**:\tNumber of weeks when user made a purchase, in the last 8 weeks."
   ]
  },
  {
   "cell_type": "code",
   "execution_count": 5,
   "metadata": {
    "colab": {},
    "colab_type": "code",
    "id": "dOsLgGYLJVuy",
    "outputId": "bd6e446b-3ee5-4645-9b57-246f10f4f818"
   },
   "outputs": [
    {
     "data": {
      "text/plain": [
       "(566699, 15)"
      ]
     },
     "execution_count": 5,
     "metadata": {},
     "output_type": "execute_result"
    }
   ],
   "source": [
    "# shape of data\n",
    "my_data.shape"
   ]
  },
  {
   "cell_type": "markdown",
   "metadata": {
    "colab_type": "text",
    "id": "lvS8arvjJVu3"
   },
   "source": [
    "### Check Missing Value"
   ]
  },
  {
   "cell_type": "code",
   "execution_count": 6,
   "metadata": {
    "colab": {},
    "colab_type": "code",
    "id": "NXciOiJVJVu3",
    "outputId": "952c09a8-e8df-439d-bc81-6f8362a10eba"
   },
   "outputs": [
    {
     "data": {
      "text/plain": [
       "buyer_week_before              0\n",
       "clicked_buy_before         71059\n",
       "country                    12524\n",
       "existing_buyer                 0\n",
       "initial_fop_set                0\n",
       "made_purchase_before       71059\n",
       "saw_cart_before            71059\n",
       "spend_usd_next_14_days    477667\n",
       "user_added_credit_card    396102\n",
       "user_added_dcb            396102\n",
       "user_added_fop                 0\n",
       "user_added_gift_card      396102\n",
       "user_added_paypal         396102\n",
       "user_id                        0\n",
       "visit_before                   0\n",
       "dtype: int64"
      ]
     },
     "execution_count": 6,
     "metadata": {},
     "output_type": "execute_result"
    }
   ],
   "source": [
    "# remove duplicates\n",
    "my_data = my_data.drop_duplicates()\n",
    "\n",
    "# Check missing value\n",
    "my_data.shape[0] - my_data.count()"
   ]
  },
  {
   "cell_type": "code",
   "execution_count": 7,
   "metadata": {
    "colab": {},
    "colab_type": "code",
    "id": "-4EhMUAPJVu7",
    "outputId": "fa938c7d-82f5-4270-b1e0-539db22f3cd5"
   },
   "outputs": [
    {
     "data": {
      "text/plain": [
       "71059"
      ]
     },
     "execution_count": 7,
     "metadata": {},
     "output_type": "execute_result"
    }
   ],
   "source": [
    "len(my_data[my_data['visit_before']==0])"
   ]
  },
  {
   "cell_type": "markdown",
   "metadata": {
    "colab_type": "text",
    "id": "wkHOctYkJVu-"
   },
   "source": [
    "We can see that some features have lots of missing value. Some features have the same number of missing values that could be processed together. \n",
    "* spend_usd_next_14_days\n",
    "    * No 0 value. So NAs can be filled by 0.\n",
    "* user_added_credit_card, user_added_dcb, user_added_gift_card, user_added_paypal\n",
    "    * They are NAs only when users don't have any fops.\n",
    "* Other features\n",
    "    * The corresponding samples can be removed.\n",
    "\n"
   ]
  },
  {
   "cell_type": "code",
   "execution_count": 10,
   "metadata": {
    "colab": {},
    "colab_type": "code",
    "id": "GCv7mZa3JVu_",
    "outputId": "27f40afe-5cf7-4137-e03d-cf2300a29461"
   },
   "outputs": [
    {
     "name": "stdout",
     "output_type": "stream",
     "text": [
      "buyer_week_before         0\n",
      "clicked_buy_before        0\n",
      "country                   0\n",
      "existing_buyer            0\n",
      "initial_fop_set           0\n",
      "made_purchase_before      0\n",
      "saw_cart_before           0\n",
      "spend_usd_next_14_days    0\n",
      "user_added_credit_card    0\n",
      "user_added_dcb            0\n",
      "user_added_fop            0\n",
      "user_added_gift_card      0\n",
      "user_added_paypal         0\n",
      "user_id                   0\n",
      "visit_before              0\n",
      "dtype: int64\n",
      "The length of the data is:  484357\n"
     ]
    }
   ],
   "source": [
    "# remove na in column user_added_credit_card and clicked_buy_before, country\n",
    "df = my_data.dropna(subset=['made_purchase_before', 'clicked_buy_before','country','saw_cart_before'])\n",
    "# fill na with 0\n",
    "df = df.fillna(0)\n",
    "# check missing value again\n",
    "print (df.shape[0] - df.count())\n",
    "\n",
    "print ('The length of the data is: ', len(df))"
   ]
  },
  {
   "cell_type": "markdown",
   "metadata": {
    "colab_type": "text",
    "id": "mX3-iithJVvD"
   },
   "source": [
    "### Spend USD in Next 14 Days"
   ]
  },
  {
   "cell_type": "markdown",
   "metadata": {
    "colab_type": "text",
    "id": "6hdkf0GjJVvE"
   },
   "source": [
    "This column indicates that the user has spent in the next 14 days (if any), which can be used as the predicted feature. \n",
    "Thus, first let's look at the distribution of the column \"spend_usd_next_14_days\", after we imputate the missing value with 0. "
   ]
  },
  {
   "cell_type": "code",
   "execution_count": 13,
   "metadata": {
    "colab": {},
    "colab_type": "code",
    "id": "ffKQQ6klJVvG",
    "outputId": "a9fecbfe-84ae-4b93-dc55-fb76e2e990c2"
   },
   "outputs": [
    {
     "name": "stdout",
     "output_type": "stream",
     "text": [
      "count    484357.000000\n",
      "mean         12.066857\n",
      "std          94.333699\n",
      "min           0.000000\n",
      "25%           0.000000\n",
      "50%           0.000000\n",
      "75%           0.000000\n",
      "max       22519.570000\n",
      "Name: spend_usd_next_14_days, dtype: float64\n"
     ]
    }
   ],
   "source": [
    "spend_usd_next_14_days = df.spend_usd_next_14_days\n",
    "print (spend_usd_next_14_days.describe())"
   ]
  },
  {
   "cell_type": "code",
   "execution_count": 14,
   "metadata": {
    "colab": {},
    "colab_type": "code",
    "id": "mCWOdTjcJVvJ",
    "outputId": "a0907d38-ad05-4817-98ff-078a1088a165"
   },
   "outputs": [
    {
     "data": {
      "image/png": "[encoded data removed]",
      "text/plain": [
       "<Figure size 432x288 with 1 Axes>"
      ]
     },
     "metadata": {},
     "output_type": "display_data"
    }
   ],
   "source": [
    "plt.hist(spend_usd_next_14_days, bins=50)\n",
    "plt.xlabel(\"USD spent in the next 14 days\")\n",
    "plt.ylabel(\"Frequency\")\n",
    "plt.title(\"raw data\")\n",
    "plt.show()"
   ]
  },
  {
   "cell_type": "code",
   "execution_count": 15,
   "metadata": {
    "colab": {},
    "colab_type": "code",
    "id": "1HgGsSTjJVvN",
    "outputId": "660eba98-2b46-49e0-81ee-259abd83bd3b"
   },
   "outputs": [
    {
     "data": {
      "image/png": "[encoded data removed]",
      "text/plain": [
       "<Figure size 432x288 with 1 Axes>"
      ]
     },
     "metadata": {},
     "output_type": "display_data"
    }
   ],
   "source": [
    "plt.hist(spend_usd_next_14_days[spend_usd_next_14_days!=0], bins=50)\n",
    "plt.xlabel(\"USD spent in the next 14 days\")\n",
    "plt.ylabel(\"Frequency\")\n",
    "plt.title(\"After removing value of 0\")\n",
    "plt.show()"
   ]
  },
  {
   "cell_type": "code",
   "execution_count": 17,
   "metadata": {
    "colab": {},
    "colab_type": "code",
    "id": "rxVNRf5mJVvR",
    "outputId": "ff32f4ed-5fc5-4bd1-d02b-92850ed7956b"
   },
   "outputs": [
    {
     "name": "stdout",
     "output_type": "stream",
     "text": [
      "# users who spend larger than 100 USD:  0.027572637538014314\n",
      "# users who spend larger than 500 USD:  0.003749300619171396\n"
     ]
    }
   ],
   "source": [
    "n = len(spend_usd_next_14_days)+0.0\n",
    "print ('# users who spend larger than 100 USD: ', len(spend_usd_next_14_days[spend_usd_next_14_days>=100])/n)\n",
    "print ('# users who spend larger than 500 USD: ', len(spend_usd_next_14_days[spend_usd_next_14_days>=500])/n)"
   ]
  },
  {
   "cell_type": "markdown",
   "metadata": {
    "colab_type": "text",
    "id": "xGo96UklJVvU"
   },
   "source": [
    "The plots are highly skewed because of outliers. There are a few transactions that have extremely high spend. We calculate that among all user, percentage of users who spend larger that 200 USD is 2.7%, which is pretty much low. Thus we can roughly set 200 and see the distribution plot again. We can see the plot makes much more sense. Most of the spends are between 0~40, which is the reasonable price of an app."
   ]
  },
  {
   "cell_type": "code",
   "execution_count": 18,
   "metadata": {
    "colab": {},
    "colab_type": "code",
    "id": "DiOd1n-ZJVvV"
   },
   "outputs": [
    {
     "data": {
      "image/png": "[encoded data removed]",
      "text/plain": [
       "<Figure size 432x288 with 1 Axes>"
      ]
     },
     "metadata": {},
     "output_type": "display_data"
    }
   ],
   "source": [
    "plt.hist(spend_usd_next_14_days[(spend_usd_next_14_days<=100) & (spend_usd_next_14_days!=0)], bins=100)\n",
    "plt.xlabel(\"USD spent in the next 14 days\")\n",
    "plt.ylabel(\"Frequency\")\n",
    "plt.title(\"Spend between 0 and 100, not including 0\")\n",
    "plt.show()"
   ]
  },
  {
   "cell_type": "markdown",
   "metadata": {
    "colab_type": "text",
    "id": "sB3RROC-JVvY"
   },
   "source": [
    "We want to know the percentage of users who spend the money. Then, we may wonder, if users have already made purchase before May 1, will the percentage change a lot?\n",
    "\n",
    "The answer would be yes, if you see the below two percentages."
   ]
  },
  {
   "cell_type": "code",
   "execution_count": 20,
   "metadata": {
    "colab": {},
    "colab_type": "code",
    "id": "uYxdJiQuJVvZ",
    "outputId": "e8fadec9-6a88-4aed-e8d6-9cd35a7463dd"
   },
   "outputs": [
    {
     "name": "stdout",
     "output_type": "stream",
     "text": [
      "The population spend rate is:  0.17169154156954478\n",
      "If purchased before, the spend rate is:  0.7309907664530816\n"
     ]
    }
   ],
   "source": [
    "# population percentage\n",
    "popu_spend_rate = np.mean(spend_usd_next_14_days!=0)\n",
    "# if people had purchased stuff before May 1\n",
    "purchased = df[df['made_purchase_before']==1]\n",
    "purchased_spend_rate = len(purchased[purchased['spend_usd_next_14_days']!=0]) / (len(purchased)+0.0)\n",
    "\n",
    "print ('The population spend rate is: ', popu_spend_rate)\n",
    "print ('If purchased before, the spend rate is: ', purchased_spend_rate)"
   ]
  },
  {
   "cell_type": "markdown",
   "metadata": {
    "colab_type": "text",
    "id": "GX2EYb9uJVvc"
   },
   "source": [
    "### Actual Purchase Funnel"
   ]
  },
  {
   "cell_type": "markdown",
   "metadata": {
    "colab_type": "text",
    "id": "_aspqWzKJVvd"
   },
   "source": [
    "Basically, the user will go through several steps until finishing purchase. \n",
    "* First, he enters the app store and sees the webpage. This stage we call it \"Visited\". Users can see lots of apps and choose one of them if he like. \n",
    "* Then he goes to the next stage, \"Saw cart\". Now there are some products he really loves and he adds the products into the cart.\n",
    "* If he decides to buy the product, he will click the buy button. So in this step, we call it \"Clicked\". \n",
    "* The page then turns to the payment information. Users will choose the form of payment he usually uses, and finished the purchase. \n",
    "\n",
    "First, we see how many users are there in each steps. Then, they can be divided by whole population to calculate conversion rate for each stage. Thus we draw a funnel plot. "
   ]
  },
  {
   "cell_type": "code",
   "execution_count": 22,
   "metadata": {
    "colab": {},
    "colab_type": "code",
    "id": "40HnGNe0JVve",
    "outputId": "49429187-cc27-4176-a6e1-fbc32e6fc8ac"
   },
   "outputs": [
    {
     "name": "stdout",
     "output_type": "stream",
     "text": [
      "Number of users and conversion rate for each stage: \n",
      "      action       num  cr_stage\n",
      "0    visited  484357.0  0.854699\n",
      "1        saw  451933.0  0.797483\n",
      "2    clicked  124233.0  0.219222\n",
      "3  purchased  101911.0  0.179833\n"
     ]
    },
    {
     "data": {
      "image/png": "[encoded data removed]",
      "text/plain": [
       "<Figure size 432x288 with 2 Axes>"
      ]
     },
     "metadata": {},
     "output_type": "display_data"
    }
   ],
   "source": [
    "# for each stage\n",
    "n_total = len(my_data)\n",
    "n_visited = len(df)\n",
    "n_saw = df['saw_cart_before'].sum()\n",
    "n_clicked = df['clicked_buy_before'].sum()\n",
    "n_purchased = df['made_purchase_before'].sum()\n",
    "\n",
    "# create dataframe in convenience \n",
    "funnel_df = pd.DataFrame(columns=['action','num','cr_stage'])\n",
    "funnel_df['action'] = ['visited','saw','clicked','purchased']\n",
    "funnel_df['num'] = [n_visited, n_saw, n_clicked, n_purchased]\n",
    "funnel_df['cr_stage'] = np.array([n_visited, n_saw, n_clicked, n_purchased]) / n_total\n",
    "\n",
    "# show details table\n",
    "print ('Number of users and conversion rate for each stage: ')\n",
    "print (funnel_df)\n",
    "\n",
    "# plot\n",
    "fig, ax1 = plt.subplots()\n",
    "ax2 = ax1.twinx()\n",
    "funnel_df.plot.bar('action','num', ax = ax1, legend=False)\n",
    "funnel_df.plot('action','cr_stage', ax = ax2, legend=False)\n",
    "ax1.set_ylabel('Number of users')\n",
    "ax2.set_ylabel('Conversion Rate')\n",
    "ax1.set_title('Actual Purchase Funnel for each stage')\n",
    "plt.show()"
   ]
  },
  {
   "cell_type": "markdown",
   "metadata": {
    "colab_type": "text",
    "id": "_3Jc3o95JVvj"
   },
   "source": [
    "Second, from one stage to next, we can also calculate a conversion rate. we will get two plots to make comparson. "
   ]
  },
  {
   "cell_type": "code",
   "execution_count": 24,
   "metadata": {
    "colab": {},
    "colab_type": "code",
    "id": "7YrO0J_dJVvk",
    "outputId": "1a78010b-beda-4e58-9343-e82ca35098b0"
   },
   "outputs": [
    {
     "name": "stdout",
     "output_type": "stream",
     "text": [
      "         stage_stage  cr_from_to\n",
      "0      begin_visited    0.854699\n",
      "1        visited_saw    0.933058\n",
      "2        saw_clicked    0.274893\n",
      "3  clicked_purchased    0.820321\n"
     ]
    },
    {
     "data": {
      "image/png": "[encoded data removed]",
      "text/plain": [
       "<Figure size 432x288 with 1 Axes>"
      ]
     },
     "metadata": {},
     "output_type": "display_data"
    }
   ],
   "source": [
    "funnel_df['stage_stage'] = ['begin_visited','visited_saw','saw_clicked','clicked_purchased']\n",
    "funnel_df['cr_from_to'] = [n_visited/(n_total+0.0), n_saw/n_visited, n_clicked/n_saw, n_purchased/n_clicked]\n",
    "print (funnel_df[['stage_stage','cr_from_to']])\n",
    "\n",
    "funnel_df.plot.bar('stage_stage', 'cr_from_to', legend=False)\n",
    "plt.ylabel('Conversion Rate')\n",
    "plt.title(\"The conversion rate from one stage to next one\")\n",
    "plt.show()"
   ]
  },
  {
   "cell_type": "markdown",
   "metadata": {
    "colab_type": "text",
    "id": "sPwmKVggJVvn"
   },
   "source": [
    "### Form of Payment"
   ]
  },
  {
   "cell_type": "code",
   "execution_count": 25,
   "metadata": {
    "colab": {},
    "colab_type": "code",
    "id": "5VIQGuOlJVvo",
    "outputId": "d6997c0d-6198-4142-914b-d5dfa3f004e7"
   },
   "outputs": [
    {
     "name": "stderr",
     "output_type": "stream",
     "text": [
      "C:\\Software\\Anaconda\\lib\\site-packages\\matplotlib\\axes\\_axes.py:6462: UserWarning: The 'normed' kwarg is deprecated, and has been replaced by the 'density' kwarg.\n",
      "  warnings.warn(\"The 'normed' kwarg is deprecated, and has been \"\n",
      "C:\\Software\\Anaconda\\lib\\site-packages\\matplotlib\\axes\\_axes.py:6462: UserWarning: The 'normed' kwarg is deprecated, and has been replaced by the 'density' kwarg.\n",
      "  warnings.warn(\"The 'normed' kwarg is deprecated, and has been \"\n",
      "C:\\Software\\Anaconda\\lib\\site-packages\\matplotlib\\axes\\_axes.py:6462: UserWarning: The 'normed' kwarg is deprecated, and has been replaced by the 'density' kwarg.\n",
      "  warnings.warn(\"The 'normed' kwarg is deprecated, and has been \"\n",
      "C:\\Software\\Anaconda\\lib\\site-packages\\matplotlib\\axes\\_axes.py:6462: UserWarning: The 'normed' kwarg is deprecated, and has been replaced by the 'density' kwarg.\n",
      "  warnings.warn(\"The 'normed' kwarg is deprecated, and has been \"\n"
     ]
    },
    {
     "data": {
      "image/png": "[encoded data removed]",
      "text/plain": [
       "<Figure size 864x576 with 4 Axes>"
      ]
     },
     "metadata": {},
     "output_type": "display_data"
    }
   ],
   "source": [
    "# show the distribution of FOP\n",
    "target_features = ['user_added_credit_card','user_added_dcb'\n",
    "                        ,'user_added_gift_card','user_added_paypal']\n",
    "# categorical variables histogram\n",
    "fig = plt.figure(figsize=(12,8))\n",
    "for i,column in enumerate(target_features):\n",
    "    fig.add_subplot(2,2,i+1)\n",
    "    sns.distplot(df[column], kde=False)"
   ]
  },
  {
   "cell_type": "markdown",
   "metadata": {
    "colab_type": "text",
    "id": "zbRIJqpRJVvq"
   },
   "source": [
    "We can see that people are more likely to use credit card and dcb. There are less people who are using gift card or paypal. "
   ]
  },
  {
   "cell_type": "code",
   "execution_count": 26,
   "metadata": {
    "colab": {},
    "colab_type": "code",
    "id": "UWaltin9JVvs",
    "outputId": "71b8ae49-e724-4c6f-d507-7763aad2ce8a"
   },
   "outputs": [
    {
     "data": {
      "image/png": "[encoded data removed]",
      "text/plain": [
       "<Figure size 1152x1152 with 16 Axes>"
      ]
     },
     "metadata": {},
     "output_type": "display_data"
    }
   ],
   "source": [
    "country = ['CH','JP','IN','US']\n",
    "count = 1\n",
    "fig = plt.figure(figsize=(16,16))\n",
    "for i,fop in enumerate(target_features):\n",
    "    for j,c in enumerate(country):\n",
    "        fig.add_subplot(4,4,count)\n",
    "        plt.hist(df[df['country']==c][fop])\n",
    "        plt.title(fop + ' in ' + c)\n",
    "        # plt.ylabel(\"frequency\")\n",
    "        count += 1"
   ]
  },
  {
   "cell_type": "markdown",
   "metadata": {
    "colab_type": "text",
    "id": "yuxSsIFUJVvu"
   },
   "source": [
    "If we want to analysis the effect of FOP, we should focus on the stage between \"clicked_buy_before\" and \"made_purchased_before\". So the conversion rate should be:\n",
    "$$ConversionRate = \\frac{Number \\ Of \\ People \\ With \\ clicked\\_buy\\_before = 1}{Number \\ Of \\ People \\ With \\ made\\_purchased\\_before = 1} | \\ obj = 1$$\n",
    "\n",
    "However, we should notice that, some records may contain more than one FOP, which means that we may not know which form of payment is used in this transaction, if there are many. Thus, we proceed two approaches here. \n",
    "* Multiple FOP counts for all\n",
    "* Remove those who have more than one FOP."
   ]
  },
  {
   "cell_type": "code",
   "execution_count": 28,
   "metadata": {
    "colab": {},
    "colab_type": "code",
    "id": "h59oQnZ3JVvu",
    "outputId": "ccd6ec1e-7deb-4e87-9b22-38c9ca3cc1e1"
   },
   "outputs": [
    {
     "name": "stdout",
     "output_type": "stream",
     "text": [
      "The length of multiple_fop 484357\n",
      "The length of single_fop 113094\n"
     ]
    }
   ],
   "source": [
    "def cr_fop(stage_interval, obj, df):\n",
    "    \"\"\"\n",
    "    stage_interval: The interval containing starting stage and ending stage\n",
    "    obj: the object we want to calculate conversion rate for\n",
    "    \"\"\"\n",
    "    tmp = df[df[obj]==1][stage_interval].sum()\n",
    "    return tmp[1] / tmp[0]\n",
    "\n",
    "stage_interval = ['clicked_buy_before','made_purchase_before']\n",
    "\n",
    "# calculate multiple fop conversion rate\n",
    "multiple_fop = []\n",
    "for obj in target_features:\n",
    "    cr = cr_fop(stage_interval, obj, df)\n",
    "    multiple_fop.append(cr)\n",
    "\n",
    "# calculate single fop conversion rate\n",
    "df['user_added_sum'] = df['user_added_credit_card']+df['user_added_dcb'] + \\\n",
    "                       df['user_added_gift_card']+df['user_added_paypal']\n",
    "single_fop_df = df[df['user_added_sum']==1]\n",
    "single_fop = []\n",
    "for obj in target_features:\n",
    "    cr = cr_fop(stage_interval, obj, single_fop_df)\n",
    "    single_fop.append(cr)\n",
    "\n",
    "print ('The length of multiple_fop', len(df))\n",
    "print ('The length of single_fop', len(single_fop_df))"
   ]
  },
  {
   "cell_type": "code",
   "execution_count": 29,
   "metadata": {
    "colab": {},
    "colab_type": "code",
    "id": "kcIh7PXJJVvx",
    "outputId": "5fd35fb1-e69e-440a-905a-b8299dbd619a"
   },
   "outputs": [
    {
     "data": {
      "text/plain": [
       "user_added_credit_card    51320.0\n",
       "user_added_dcb            47251.0\n",
       "user_added_gift_card       9326.0\n",
       "user_added_paypal          5197.0\n",
       "dtype: float64"
      ]
     },
     "execution_count": 29,
     "metadata": {},
     "output_type": "execute_result"
    }
   ],
   "source": [
    "# distribution \n",
    "single_fop_df[target_features].sum() "
   ]
  },
  {
   "cell_type": "code",
   "execution_count": 31,
   "metadata": {
    "colab": {},
    "colab_type": "code",
    "id": "0jGvzfTOJVv1",
    "outputId": "5a632821-2ff2-49f5-f549-7bd266747489"
   },
   "outputs": [
    {
     "name": "stdout",
     "output_type": "stream",
     "text": [
      "FOP conversion rate: \n",
      "                      fop  multiple_fop  single_fop\n",
      "0  user_added_credit_card      0.863623    0.809564\n",
      "1          user_added_dcb      0.814635    0.711575\n",
      "2    user_added_gift_card      0.960136    0.953946\n",
      "3       user_added_paypal      0.883465    0.784256\n"
     ]
    },
    {
     "data": {
      "image/png": "[encoded data removed]",
      "text/plain": [
       "<Figure size 864x576 with 1 Axes>"
      ]
     },
     "metadata": {},
     "output_type": "display_data"
    }
   ],
   "source": [
    "# draw bar plot \n",
    "res_fop_df = pd.DataFrame(columns=['fop','multiple_fop','single_fop'])\n",
    "res_fop_df['fop'] = target_features\n",
    "res_fop_df['multiple_fop'] = multiple_fop\n",
    "res_fop_df['single_fop'] = single_fop\n",
    "print ('FOP conversion rate: ')\n",
    "print (res_fop_df)\n",
    "res_fop_df.plot.bar(x='fop',y=['multiple_fop','single_fop'],figsize=(12,8))\n",
    "plt.ylim(0.6,1.0)\n",
    "plt.ylabel(\"conversion rate\")\n",
    "plt.show()"
   ]
  },
  {
   "cell_type": "markdown",
   "metadata": {
    "colab_type": "text",
    "id": "zawURJB1JVv6"
   },
   "source": [
    "## Set Up Experiment"
   ]
  },
  {
   "cell_type": "markdown",
   "metadata": {
    "colab_type": "text",
    "id": "K5V-AzNfJVv6"
   },
   "source": [
    "We can conclude:\n",
    "* More than 40% users only have dcb payment, but the conversion rate is low\n",
    "* Gift card has the highest conversion rate \n",
    "* For the single payment view, Credit Card has higher conversion rate than Paypal\n",
    "* ...\n",
    "\n",
    "Now we have several possible strategies. \n",
    "* Ask more from good: Credit card discount raises from 3% to 3.5%\n",
    "* Fix things: Find those who only use paypal. See where they usually go. Then make ads for credit card.\n",
    "* ...\n",
    "\n",
    "Assume that we choose to \"Fix things\". Next step is to perform A/B test. Users, who only use Paypal as the FOP, are most likely to view 'GAMES', 'MOVIES' and 'MUSIC'. Totally, 49166 users are involved, with 24695 users in case group and 24471 users in control group. "
   ]
  },
  {
   "cell_type": "markdown",
   "metadata": {
    "colab_type": "text",
    "id": "2hxthv2hJVv8"
   },
   "source": [
    "## A/B test"
   ]
  },
  {
   "cell_type": "code",
   "execution_count": 35,
   "metadata": {
    "colab": {},
    "colab_type": "code",
    "id": "N7c3in-9JVv8",
    "outputId": "f8e0f53e-24df-41b4-c640-56e4df3cdacd"
   },
   "outputs": [
    {
     "data": {
      "text/html": [
       "<div>\n",
       "<style scoped>\n",
       "    .dataframe tbody tr th:only-of-type {\n",
       "        vertical-align: middle;\n",
       "    }\n",
       "\n",
       "    .dataframe tbody tr th {\n",
       "        vertical-align: top;\n",
       "    }\n",
       "\n",
       "    .dataframe thead th {\n",
       "        text-align: right;\n",
       "    }\n",
       "</style>\n",
       "<table border=\"1\" class=\"dataframe\">\n",
       "  <thead>\n",
       "    <tr style=\"text-align: right;\">\n",
       "      <th></th>\n",
       "      <th>country</th>\n",
       "      <th>date</th>\n",
       "      <th>experiment_id</th>\n",
       "      <th>order_id</th>\n",
       "      <th>spend_usd</th>\n",
       "      <th>user_bucket</th>\n",
       "      <th>user_id</th>\n",
       "      <th>vertical</th>\n",
       "    </tr>\n",
       "  </thead>\n",
       "  <tbody>\n",
       "    <tr>\n",
       "      <th>0</th>\n",
       "      <td>NaN</td>\n",
       "      <td>NaN</td>\n",
       "      <td>12624549</td>\n",
       "      <td>NaN</td>\n",
       "      <td>0.0</td>\n",
       "      <td>3</td>\n",
       "      <td>1.655440e+19</td>\n",
       "      <td>NaN</td>\n",
       "    </tr>\n",
       "    <tr>\n",
       "      <th>1</th>\n",
       "      <td>NaN</td>\n",
       "      <td>NaN</td>\n",
       "      <td>12624548</td>\n",
       "      <td>NaN</td>\n",
       "      <td>0.0</td>\n",
       "      <td>14</td>\n",
       "      <td>1.441150e+19</td>\n",
       "      <td>NaN</td>\n",
       "    </tr>\n",
       "    <tr>\n",
       "      <th>2</th>\n",
       "      <td>NaN</td>\n",
       "      <td>NaN</td>\n",
       "      <td>12624549</td>\n",
       "      <td>NaN</td>\n",
       "      <td>0.0</td>\n",
       "      <td>20</td>\n",
       "      <td>8.425200e+18</td>\n",
       "      <td>NaN</td>\n",
       "    </tr>\n",
       "    <tr>\n",
       "      <th>3</th>\n",
       "      <td>NaN</td>\n",
       "      <td>NaN</td>\n",
       "      <td>12624549</td>\n",
       "      <td>NaN</td>\n",
       "      <td>0.0</td>\n",
       "      <td>16</td>\n",
       "      <td>1.130270e+19</td>\n",
       "      <td>NaN</td>\n",
       "    </tr>\n",
       "    <tr>\n",
       "      <th>4</th>\n",
       "      <td>NaN</td>\n",
       "      <td>NaN</td>\n",
       "      <td>12624549</td>\n",
       "      <td>NaN</td>\n",
       "      <td>0.0</td>\n",
       "      <td>14</td>\n",
       "      <td>1.399240e+18</td>\n",
       "      <td>NaN</td>\n",
       "    </tr>\n",
       "  </tbody>\n",
       "</table>\n",
       "</div>"
      ],
      "text/plain": [
       "  country date  experiment_id  order_id  spend_usd  user_bucket       user_id  \\\n",
       "0     NaN  NaN       12624549       NaN        0.0            3  1.655440e+19   \n",
       "1     NaN  NaN       12624548       NaN        0.0           14  1.441150e+19   \n",
       "2     NaN  NaN       12624549       NaN        0.0           20  8.425200e+18   \n",
       "3     NaN  NaN       12624549       NaN        0.0           16  1.130270e+19   \n",
       "4     NaN  NaN       12624549       NaN        0.0           14  1.399240e+18   \n",
       "\n",
       "  vertical  \n",
       "0      NaN  \n",
       "1      NaN  \n",
       "2      NaN  \n",
       "3      NaN  \n",
       "4      NaN  "
      ]
     },
     "execution_count": 35,
     "metadata": {},
     "output_type": "execute_result"
    }
   ],
   "source": [
    "experiment = pd.read_csv(\"C:/Users/yangj/Desktop/App_store/Python_project_experiment.csv\")\n",
    "experiment.head()"
   ]
  },
  {
   "cell_type": "code",
   "execution_count": 38,
   "metadata": {
    "colab": {},
    "colab_type": "code",
    "id": "vcNx-pMpJVv-",
    "outputId": "610ee556-bef8-4a73-95cf-513e0d90fb45"
   },
   "outputs": [
    {
     "name": "stdout",
     "output_type": "stream",
     "text": [
      "Total number of experiment users is 49166\n",
      "Number of users in case group:  24695\n",
      "Number of users in control group:  24471\n"
     ]
    }
   ],
   "source": [
    "control = experiment[experiment['experiment_id']==12624549]['spend_usd']\n",
    "case = experiment[experiment['experiment_id']==12624548]['spend_usd']\n",
    "\n",
    "print ('Total number of experiment users is', len(experiment))\n",
    "print ('Number of users in case group: ', len(case))\n",
    "print ('Number of users in control group: ', len(control))"
   ]
  },
  {
   "cell_type": "code",
   "execution_count": 0,
   "metadata": {
    "colab": {},
    "colab_type": "code",
    "id": "ZzuTbx7RJVwC",
    "outputId": "efd28440-6aef-4bbb-bbe7-797cf3c11521"
   },
   "outputs": [
    {
     "name": "stdout",
     "output_type": "stream",
     "text": [
      "Statistical summary for case group:\n",
      "count    24695.000000\n",
      "mean         3.101232\n",
      "std         11.647487\n",
      "min          0.000000\n",
      "25%          0.000000\n",
      "50%          0.000000\n",
      "75%          0.975661\n",
      "max        119.990000\n",
      "Name: spend_usd, dtype: float64\n",
      "========================================\n",
      "Statistical summary for control group:\n",
      "count    24471.000000\n",
      "mean         2.807225\n",
      "std         10.974284\n",
      "min          0.000000\n",
      "25%          0.000000\n",
      "50%          0.000000\n",
      "75%          0.000000\n",
      "max        199.990000\n",
      "Name: spend_usd, dtype: float64\n"
     ]
    }
   ],
   "source": [
    "print 'Statistical summary for case group:'\n",
    "print case.describe()\n",
    "print '========================================'\n",
    "print 'Statistical summary for control group:'\n",
    "print control.describe()"
   ]
  },
  {
   "cell_type": "code",
   "execution_count": 39,
   "metadata": {
    "colab": {},
    "colab_type": "code",
    "id": "EDZXUQqJJVwE",
    "outputId": "eb9deb99-f59d-4a6c-8d5c-356742010433"
   },
   "outputs": [
    {
     "data": {
      "text/plain": [
       "Ttest_indResult(statistic=2.8801076680362367, pvalue=0.003977110569393284)"
      ]
     },
     "execution_count": 39,
     "metadata": {},
     "output_type": "execute_result"
    }
   ],
   "source": [
    "# perform two sample one side t-test on case/control group\n",
    "from scipy import stats\n",
    "stats.ttest_ind(case, control, equal_var=True)"
   ]
  },
  {
   "cell_type": "markdown",
   "metadata": {
    "colab_type": "text",
    "id": "FLuNOVS4JVwH"
   },
   "source": [
    "Here, we got the pvalue less than 0.01, which means that we could reject the null hypothesis and conclude that case and control group have different mean. Actually, we got a positive statistic. Thus **statistically, our action policy will bring the increase of the revenue for the app store.** And we can recommend to our VP that we should focus more on those who only use paypal as FOP, showing them the benefit of the credit card and offering them possible discount. "
   ]
  }
 ],
 "metadata": {
  "colab": {
   "name": "APPLE_STORE_PROJECT.ipynb",
   "provenance": [],
   "version": "0.3.2"
  },
  "kernelspec": {
   "display_name": "Python 3",
   "language": "python",
   "name": "python3"
  },
  "language_info": {
   "codemirror_mode": {
    "name": "ipython",
    "version": 3
   },
   "file_extension": ".py",
   "mimetype": "text/x-python",
   "name": "python",
   "nbconvert_exporter": "python",
   "pygments_lexer": "ipython3",
   "version": "3.6.5"
  }
 },
 "nbformat": 4,
 "nbformat_minor": 1
}
